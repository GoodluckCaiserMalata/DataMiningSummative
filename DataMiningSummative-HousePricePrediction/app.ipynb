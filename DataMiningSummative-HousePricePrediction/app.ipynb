{
 "cells": [
  {
   "cell_type": "code",
   "execution_count": 2,
   "metadata": {
    "scrolled": true
   },
   "outputs": [
    {
     "name": "stdout",
     "output_type": "stream",
     "text": [
      "Requirement already satisfied: flask-ngrok in /home/goodluck/anaconda3/lib/python3.7/site-packages (0.0.25)\n",
      "Requirement already satisfied: requests in /home/goodluck/anaconda3/lib/python3.7/site-packages (from flask-ngrok) (2.22.0)\n",
      "Requirement already satisfied: Flask>=0.8 in /home/goodluck/anaconda3/lib/python3.7/site-packages (from flask-ngrok) (1.1.1)\n",
      "Requirement already satisfied: chardet<3.1.0,>=3.0.2 in /home/goodluck/anaconda3/lib/python3.7/site-packages (from requests->flask-ngrok) (3.0.4)\n",
      "Requirement already satisfied: certifi>=2017.4.17 in /home/goodluck/anaconda3/lib/python3.7/site-packages (from requests->flask-ngrok) (2019.11.28)\n",
      "Requirement already satisfied: idna<2.9,>=2.5 in /home/goodluck/anaconda3/lib/python3.7/site-packages (from requests->flask-ngrok) (2.8)\n",
      "Requirement already satisfied: urllib3!=1.25.0,!=1.25.1,<1.26,>=1.21.1 in /home/goodluck/anaconda3/lib/python3.7/site-packages (from requests->flask-ngrok) (1.25.8)\n",
      "Requirement already satisfied: Werkzeug>=0.15 in /home/goodluck/anaconda3/lib/python3.7/site-packages (from Flask>=0.8->flask-ngrok) (1.0.0)\n",
      "Requirement already satisfied: itsdangerous>=0.24 in /home/goodluck/anaconda3/lib/python3.7/site-packages (from Flask>=0.8->flask-ngrok) (1.1.0)\n",
      "Requirement already satisfied: click>=5.1 in /home/goodluck/anaconda3/lib/python3.7/site-packages (from Flask>=0.8->flask-ngrok) (7.0)\n",
      "Requirement already satisfied: Jinja2>=2.10.1 in /home/goodluck/anaconda3/lib/python3.7/site-packages (from Flask>=0.8->flask-ngrok) (2.11.1)\n",
      "Requirement already satisfied: MarkupSafe>=0.23 in /home/goodluck/anaconda3/lib/python3.7/site-packages (from Jinja2>=2.10.1->Flask>=0.8->flask-ngrok) (2.0.1)\n",
      "Note: you may need to restart the kernel to use updated packages.\n"
     ]
    }
   ],
   "source": [
    "pip install flask-ngrok"
   ]
  },
  {
   "cell_type": "code",
   "execution_count": 3,
   "metadata": {},
   "outputs": [],
   "source": [
    "import numpy as np\n",
    "from flask import Flask, request, render_template\n",
    "from flask_ngrok import run_with_ngrok\n",
    "import pickle"
   ]
  },
  {
   "cell_type": "code",
   "execution_count": null,
   "metadata": {},
   "outputs": [
    {
     "name": "stdout",
     "output_type": "stream",
     "text": [
      " * Serving Flask app \"__main__\" (lazy loading)\n",
      " * Environment: production\n",
      "   WARNING: This is a development server. Do not use it in a production deployment.\n",
      "   Use a production WSGI server instead.\n",
      " * Debug mode: off\n"
     ]
    },
    {
     "name": "stderr",
     "output_type": "stream",
     "text": [
      " * Running on http://127.0.0.1:5000/ (Press CTRL+C to quit)\n",
      "Exception in thread Thread-4:\n",
      "Traceback (most recent call last):\n",
      "  File \"/home/goodluck/anaconda3/lib/python3.7/threading.py\", line 926, in _bootstrap_inner\n",
      "    self.run()\n",
      "  File \"/home/goodluck/anaconda3/lib/python3.7/threading.py\", line 1177, in run\n",
      "    self.function(*self.args, **self.kwargs)\n",
      "  File \"/home/goodluck/anaconda3/lib/python3.7/site-packages/flask_ngrok.py\", line 70, in start_ngrok\n",
      "    ngrok_address = _run_ngrok()\n",
      "  File \"/home/goodluck/anaconda3/lib/python3.7/site-packages/flask_ngrok.py\", line 31, in _run_ngrok\n",
      "    ngrok = subprocess.Popen([executable, 'http', '5000'])\n",
      "  File \"/home/goodluck/anaconda3/lib/python3.7/subprocess.py\", line 800, in __init__\n",
      "    restore_signals, start_new_session)\n",
      "  File \"/home/goodluck/anaconda3/lib/python3.7/subprocess.py\", line 1551, in _execute_child\n",
      "    raise child_exception_type(errno_num, err_msg, err_filename)\n",
      "PermissionError: [Errno 13] Permission denied: '/tmp/ngrok/ngrok'\n",
      "\n",
      "127.0.0.1 - - [20/Apr/2022 00:51:28] \"\u001b[37mGET / HTTP/1.1\u001b[0m\" 200 -\n",
      "127.0.0.1 - - [20/Apr/2022 00:51:29] \"\u001b[33mGET /favicon.ico HTTP/1.1\u001b[0m\" 404 -\n",
      "127.0.0.1 - - [20/Apr/2022 00:56:56] \"\u001b[37mGET / HTTP/1.1\u001b[0m\" 200 -\n",
      "127.0.0.1 - - [20/Apr/2022 01:00:19] \"\u001b[37mGET / HTTP/1.1\u001b[0m\" 200 -\n",
      "127.0.0.1 - - [20/Apr/2022 01:02:21] \"\u001b[37mPOST /getprediction HTTP/1.1\u001b[0m\" 200 -\n",
      "127.0.0.1 - - [20/Apr/2022 01:03:51] \"\u001b[37mPOST /getprediction HTTP/1.1\u001b[0m\" 200 -\n",
      "127.0.0.1 - - [20/Apr/2022 01:05:53] \"\u001b[37mPOST /getprediction HTTP/1.1\u001b[0m\" 200 -\n",
      "127.0.0.1 - - [20/Apr/2022 01:13:34] \"\u001b[37mPOST /getprediction HTTP/1.1\u001b[0m\" 200 -\n"
     ]
    }
   ],
   "source": [
    "app = Flask(__name__)\n",
    "model = pickle.load(open('reg.pkl', 'rb'))\n",
    "\n",
    "\n",
    "run_with_ngrok(app)\n",
    "@app.route('/')\n",
    "def home():\n",
    "    return render_template('index.html')\n",
    "\n",
    "@app.route('/getprediction',methods=['POST'])\n",
    "def getprediction():    \n",
    "\n",
    "    input = [float(x) for x in request.form.values()]\n",
    "    final_input = [np.array(input)]\n",
    "    prediction = model.predict(final_input)\n",
    "\n",
    "    return render_template('index.html', output='The Predicted House Price:{}'.format(prediction))\n",
    "   \n",
    "\n",
    "if __name__ == \"__main__\":\n",
    "    app.run()"
   ]
  },
  {
   "cell_type": "code",
   "execution_count": null,
   "metadata": {},
   "outputs": [],
   "source": []
  }
 ],
 "metadata": {
  "kernelspec": {
   "display_name": "Python 3",
   "language": "python",
   "name": "python3"
  },
  "language_info": {
   "codemirror_mode": {
    "name": "ipython",
    "version": 3
   },
   "file_extension": ".py",
   "mimetype": "text/x-python",
   "name": "python",
   "nbconvert_exporter": "python",
   "pygments_lexer": "ipython3",
   "version": "3.7.6"
  }
 },
 "nbformat": 4,
 "nbformat_minor": 4
}
